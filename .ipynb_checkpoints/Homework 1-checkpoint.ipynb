{
 "cells": [
  {
   "cell_type": "markdown",
   "metadata": {},
   "source": [
    "# Homework 1 - Diagnostic\n",
    "Jonathan Tan\n",
    "April 3, 2019"
   ]
  },
  {
   "cell_type": "markdown",
   "metadata": {},
   "source": [
    "## Problem 1: Data Acquisition and Analysis\n",
    "\n",
    "1. Download reported crime data from the Chicago open data portal for 2017 and 2018."
   ]
  },
  {
   "cell_type": "code",
   "execution_count": 50,
   "metadata": {},
   "outputs": [
    {
     "data": {
      "text/plain": [
       "(1000, 22)"
      ]
     },
     "execution_count": 50,
     "metadata": {},
     "output_type": "execute_result"
    }
   ],
   "source": [
    "# Setup\n",
    "import numpy as np\n",
    "import pandas as pd\n",
    "from sodapy import Socrata\n",
    "\n",
    "# Define key API constants\n",
    "ENDPOINT_URL = \"data.cityofchicago.org\"\n",
    "DATASET_ID = \"6zsd-86xi\"\n",
    "\n",
    "# Sensitive data is set as jupyter environment variable\n",
    "APP_TOKEN = %env CDP_APP_TOKEN\n",
    "\n",
    "# Download data from API\n",
    "with Socrata(ENDPOINT_URL, APP_TOKEN) as client:\n",
    "    results = client.get(DATASET_ID, where=\"year between '2017' and '2018'\")\n",
    "    crime_df = pd.DataFrame.from_records(results)\n",
    "\n",
    "# Expecting 268088 + 266206 = 534294 records\n",
    "crime_df.shape\n",
    "\n",
    "# Code above adapted from\n",
    "# https://dev.socrata.com/foundry/data.cityofchicago.org/6zsd-86xi"
   ]
  },
  {
   "cell_type": "markdown",
   "metadata": {},
   "source": [
    "2. Generate summary statistics for the crime reports data including but not limited to number of crimes of each type, how they change over time, and how they are different by neighborhood. Please use a combination of tables and graphs to present these summary stats."
   ]
  },
  {
   "cell_type": "code",
   "execution_count": null,
   "metadata": {},
   "outputs": [],
   "source": []
  },
  {
   "cell_type": "code",
   "execution_count": null,
   "metadata": {},
   "outputs": [],
   "source": []
  }
 ],
 "metadata": {
  "kernelspec": {
   "display_name": "Python 3",
   "language": "python",
   "name": "python3"
  },
  "language_info": {
   "codemirror_mode": {
    "name": "ipython",
    "version": 3
   },
   "file_extension": ".py",
   "mimetype": "text/x-python",
   "name": "python",
   "nbconvert_exporter": "python",
   "pygments_lexer": "ipython3",
   "version": "3.7.0"
  }
 },
 "nbformat": 4,
 "nbformat_minor": 2
}
